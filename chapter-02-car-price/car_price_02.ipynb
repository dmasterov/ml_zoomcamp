{
 "cells": [
  {
   "cell_type": "code",
   "execution_count": 103,
   "id": "323c96d6-0272-4ce8-ab06-61dbc38549eb",
   "metadata": {},
   "outputs": [],
   "source": [
    "import pandas as pd"
   ]
  },
  {
   "cell_type": "code",
   "execution_count": 3,
   "id": "b1aa877c-5a34-481b-9e79-f2ee2f467d45",
   "metadata": {},
   "outputs": [
    {
     "data": {
      "text/html": [
       "<div>\n",
       "<style scoped>\n",
       "    .dataframe tbody tr th:only-of-type {\n",
       "        vertical-align: middle;\n",
       "    }\n",
       "\n",
       "    .dataframe tbody tr th {\n",
       "        vertical-align: top;\n",
       "    }\n",
       "\n",
       "    .dataframe thead th {\n",
       "        text-align: right;\n",
       "    }\n",
       "</style>\n",
       "<table border=\"1\" class=\"dataframe\">\n",
       "  <thead>\n",
       "    <tr style=\"text-align: right;\">\n",
       "      <th></th>\n",
       "      <th>Make</th>\n",
       "      <th>Model</th>\n",
       "      <th>Year</th>\n",
       "      <th>Engine Fuel Type</th>\n",
       "      <th>Engine HP</th>\n",
       "      <th>Engine Cylinders</th>\n",
       "      <th>Transmission Type</th>\n",
       "      <th>Driven_Wheels</th>\n",
       "      <th>Number of Doors</th>\n",
       "      <th>Market Category</th>\n",
       "      <th>Vehicle Size</th>\n",
       "      <th>Vehicle Style</th>\n",
       "      <th>highway MPG</th>\n",
       "      <th>city mpg</th>\n",
       "      <th>Popularity</th>\n",
       "      <th>MSRP</th>\n",
       "    </tr>\n",
       "  </thead>\n",
       "  <tbody>\n",
       "    <tr>\n",
       "      <th>0</th>\n",
       "      <td>BMW</td>\n",
       "      <td>1 Series M</td>\n",
       "      <td>2011</td>\n",
       "      <td>premium unleaded (required)</td>\n",
       "      <td>335.0</td>\n",
       "      <td>6.0</td>\n",
       "      <td>MANUAL</td>\n",
       "      <td>rear wheel drive</td>\n",
       "      <td>2.0</td>\n",
       "      <td>Factory Tuner,Luxury,High-Performance</td>\n",
       "      <td>Compact</td>\n",
       "      <td>Coupe</td>\n",
       "      <td>26</td>\n",
       "      <td>19</td>\n",
       "      <td>3916</td>\n",
       "      <td>46135</td>\n",
       "    </tr>\n",
       "    <tr>\n",
       "      <th>1</th>\n",
       "      <td>BMW</td>\n",
       "      <td>1 Series</td>\n",
       "      <td>2011</td>\n",
       "      <td>premium unleaded (required)</td>\n",
       "      <td>300.0</td>\n",
       "      <td>6.0</td>\n",
       "      <td>MANUAL</td>\n",
       "      <td>rear wheel drive</td>\n",
       "      <td>2.0</td>\n",
       "      <td>Luxury,Performance</td>\n",
       "      <td>Compact</td>\n",
       "      <td>Convertible</td>\n",
       "      <td>28</td>\n",
       "      <td>19</td>\n",
       "      <td>3916</td>\n",
       "      <td>40650</td>\n",
       "    </tr>\n",
       "    <tr>\n",
       "      <th>2</th>\n",
       "      <td>BMW</td>\n",
       "      <td>1 Series</td>\n",
       "      <td>2011</td>\n",
       "      <td>premium unleaded (required)</td>\n",
       "      <td>300.0</td>\n",
       "      <td>6.0</td>\n",
       "      <td>MANUAL</td>\n",
       "      <td>rear wheel drive</td>\n",
       "      <td>2.0</td>\n",
       "      <td>Luxury,High-Performance</td>\n",
       "      <td>Compact</td>\n",
       "      <td>Coupe</td>\n",
       "      <td>28</td>\n",
       "      <td>20</td>\n",
       "      <td>3916</td>\n",
       "      <td>36350</td>\n",
       "    </tr>\n",
       "    <tr>\n",
       "      <th>3</th>\n",
       "      <td>BMW</td>\n",
       "      <td>1 Series</td>\n",
       "      <td>2011</td>\n",
       "      <td>premium unleaded (required)</td>\n",
       "      <td>230.0</td>\n",
       "      <td>6.0</td>\n",
       "      <td>MANUAL</td>\n",
       "      <td>rear wheel drive</td>\n",
       "      <td>2.0</td>\n",
       "      <td>Luxury,Performance</td>\n",
       "      <td>Compact</td>\n",
       "      <td>Coupe</td>\n",
       "      <td>28</td>\n",
       "      <td>18</td>\n",
       "      <td>3916</td>\n",
       "      <td>29450</td>\n",
       "    </tr>\n",
       "    <tr>\n",
       "      <th>4</th>\n",
       "      <td>BMW</td>\n",
       "      <td>1 Series</td>\n",
       "      <td>2011</td>\n",
       "      <td>premium unleaded (required)</td>\n",
       "      <td>230.0</td>\n",
       "      <td>6.0</td>\n",
       "      <td>MANUAL</td>\n",
       "      <td>rear wheel drive</td>\n",
       "      <td>2.0</td>\n",
       "      <td>Luxury</td>\n",
       "      <td>Compact</td>\n",
       "      <td>Convertible</td>\n",
       "      <td>28</td>\n",
       "      <td>18</td>\n",
       "      <td>3916</td>\n",
       "      <td>34500</td>\n",
       "    </tr>\n",
       "  </tbody>\n",
       "</table>\n",
       "</div>"
      ],
      "text/plain": [
       "  Make       Model  Year             Engine Fuel Type  Engine HP  \\\n",
       "0  BMW  1 Series M  2011  premium unleaded (required)      335.0   \n",
       "1  BMW    1 Series  2011  premium unleaded (required)      300.0   \n",
       "2  BMW    1 Series  2011  premium unleaded (required)      300.0   \n",
       "3  BMW    1 Series  2011  premium unleaded (required)      230.0   \n",
       "4  BMW    1 Series  2011  premium unleaded (required)      230.0   \n",
       "\n",
       "   Engine Cylinders Transmission Type     Driven_Wheels  Number of Doors  \\\n",
       "0               6.0            MANUAL  rear wheel drive              2.0   \n",
       "1               6.0            MANUAL  rear wheel drive              2.0   \n",
       "2               6.0            MANUAL  rear wheel drive              2.0   \n",
       "3               6.0            MANUAL  rear wheel drive              2.0   \n",
       "4               6.0            MANUAL  rear wheel drive              2.0   \n",
       "\n",
       "                         Market Category Vehicle Size Vehicle Style  \\\n",
       "0  Factory Tuner,Luxury,High-Performance      Compact         Coupe   \n",
       "1                     Luxury,Performance      Compact   Convertible   \n",
       "2                Luxury,High-Performance      Compact         Coupe   \n",
       "3                     Luxury,Performance      Compact         Coupe   \n",
       "4                                 Luxury      Compact   Convertible   \n",
       "\n",
       "   highway MPG  city mpg  Popularity   MSRP  \n",
       "0           26        19        3916  46135  \n",
       "1           28        19        3916  40650  \n",
       "2           28        20        3916  36350  \n",
       "3           28        18        3916  29450  \n",
       "4           28        18        3916  34500  "
      ]
     },
     "execution_count": 3,
     "metadata": {},
     "output_type": "execute_result"
    }
   ],
   "source": [
    "df = pd.read_csv('data.csv')\n",
    "df.head()"
   ]
  },
  {
   "cell_type": "code",
   "execution_count": 4,
   "id": "e4e531fe-23dd-4911-b40f-0c2898c84a8d",
   "metadata": {},
   "outputs": [
    {
     "data": {
      "text/html": [
       "<div>\n",
       "<style scoped>\n",
       "    .dataframe tbody tr th:only-of-type {\n",
       "        vertical-align: middle;\n",
       "    }\n",
       "\n",
       "    .dataframe tbody tr th {\n",
       "        vertical-align: top;\n",
       "    }\n",
       "\n",
       "    .dataframe thead th {\n",
       "        text-align: right;\n",
       "    }\n",
       "</style>\n",
       "<table border=\"1\" class=\"dataframe\">\n",
       "  <thead>\n",
       "    <tr style=\"text-align: right;\">\n",
       "      <th></th>\n",
       "      <th>make</th>\n",
       "      <th>model</th>\n",
       "      <th>year</th>\n",
       "      <th>engine_fuel_type</th>\n",
       "      <th>engine_hp</th>\n",
       "      <th>engine_cylinders</th>\n",
       "      <th>transmission_type</th>\n",
       "      <th>driven_wheels</th>\n",
       "      <th>number_of_doors</th>\n",
       "      <th>market_category</th>\n",
       "      <th>vehicle_size</th>\n",
       "      <th>vehicle_style</th>\n",
       "      <th>highway_mpg</th>\n",
       "      <th>city_mpg</th>\n",
       "      <th>popularity</th>\n",
       "      <th>msrp</th>\n",
       "    </tr>\n",
       "  </thead>\n",
       "  <tbody>\n",
       "    <tr>\n",
       "      <th>0</th>\n",
       "      <td>BMW</td>\n",
       "      <td>1 Series M</td>\n",
       "      <td>2011</td>\n",
       "      <td>premium unleaded (required)</td>\n",
       "      <td>335.0</td>\n",
       "      <td>6.0</td>\n",
       "      <td>MANUAL</td>\n",
       "      <td>rear wheel drive</td>\n",
       "      <td>2.0</td>\n",
       "      <td>Factory Tuner,Luxury,High-Performance</td>\n",
       "      <td>Compact</td>\n",
       "      <td>Coupe</td>\n",
       "      <td>26</td>\n",
       "      <td>19</td>\n",
       "      <td>3916</td>\n",
       "      <td>46135</td>\n",
       "    </tr>\n",
       "    <tr>\n",
       "      <th>1</th>\n",
       "      <td>BMW</td>\n",
       "      <td>1 Series</td>\n",
       "      <td>2011</td>\n",
       "      <td>premium unleaded (required)</td>\n",
       "      <td>300.0</td>\n",
       "      <td>6.0</td>\n",
       "      <td>MANUAL</td>\n",
       "      <td>rear wheel drive</td>\n",
       "      <td>2.0</td>\n",
       "      <td>Luxury,Performance</td>\n",
       "      <td>Compact</td>\n",
       "      <td>Convertible</td>\n",
       "      <td>28</td>\n",
       "      <td>19</td>\n",
       "      <td>3916</td>\n",
       "      <td>40650</td>\n",
       "    </tr>\n",
       "    <tr>\n",
       "      <th>2</th>\n",
       "      <td>BMW</td>\n",
       "      <td>1 Series</td>\n",
       "      <td>2011</td>\n",
       "      <td>premium unleaded (required)</td>\n",
       "      <td>300.0</td>\n",
       "      <td>6.0</td>\n",
       "      <td>MANUAL</td>\n",
       "      <td>rear wheel drive</td>\n",
       "      <td>2.0</td>\n",
       "      <td>Luxury,High-Performance</td>\n",
       "      <td>Compact</td>\n",
       "      <td>Coupe</td>\n",
       "      <td>28</td>\n",
       "      <td>20</td>\n",
       "      <td>3916</td>\n",
       "      <td>36350</td>\n",
       "    </tr>\n",
       "    <tr>\n",
       "      <th>3</th>\n",
       "      <td>BMW</td>\n",
       "      <td>1 Series</td>\n",
       "      <td>2011</td>\n",
       "      <td>premium unleaded (required)</td>\n",
       "      <td>230.0</td>\n",
       "      <td>6.0</td>\n",
       "      <td>MANUAL</td>\n",
       "      <td>rear wheel drive</td>\n",
       "      <td>2.0</td>\n",
       "      <td>Luxury,Performance</td>\n",
       "      <td>Compact</td>\n",
       "      <td>Coupe</td>\n",
       "      <td>28</td>\n",
       "      <td>18</td>\n",
       "      <td>3916</td>\n",
       "      <td>29450</td>\n",
       "    </tr>\n",
       "    <tr>\n",
       "      <th>4</th>\n",
       "      <td>BMW</td>\n",
       "      <td>1 Series</td>\n",
       "      <td>2011</td>\n",
       "      <td>premium unleaded (required)</td>\n",
       "      <td>230.0</td>\n",
       "      <td>6.0</td>\n",
       "      <td>MANUAL</td>\n",
       "      <td>rear wheel drive</td>\n",
       "      <td>2.0</td>\n",
       "      <td>Luxury</td>\n",
       "      <td>Compact</td>\n",
       "      <td>Convertible</td>\n",
       "      <td>28</td>\n",
       "      <td>18</td>\n",
       "      <td>3916</td>\n",
       "      <td>34500</td>\n",
       "    </tr>\n",
       "  </tbody>\n",
       "</table>\n",
       "</div>"
      ],
      "text/plain": [
       "  make       model  year             engine_fuel_type  engine_hp  \\\n",
       "0  BMW  1 Series M  2011  premium unleaded (required)      335.0   \n",
       "1  BMW    1 Series  2011  premium unleaded (required)      300.0   \n",
       "2  BMW    1 Series  2011  premium unleaded (required)      300.0   \n",
       "3  BMW    1 Series  2011  premium unleaded (required)      230.0   \n",
       "4  BMW    1 Series  2011  premium unleaded (required)      230.0   \n",
       "\n",
       "   engine_cylinders transmission_type     driven_wheels  number_of_doors  \\\n",
       "0               6.0            MANUAL  rear wheel drive              2.0   \n",
       "1               6.0            MANUAL  rear wheel drive              2.0   \n",
       "2               6.0            MANUAL  rear wheel drive              2.0   \n",
       "3               6.0            MANUAL  rear wheel drive              2.0   \n",
       "4               6.0            MANUAL  rear wheel drive              2.0   \n",
       "\n",
       "                         market_category vehicle_size vehicle_style  \\\n",
       "0  Factory Tuner,Luxury,High-Performance      Compact         Coupe   \n",
       "1                     Luxury,Performance      Compact   Convertible   \n",
       "2                Luxury,High-Performance      Compact         Coupe   \n",
       "3                     Luxury,Performance      Compact         Coupe   \n",
       "4                                 Luxury      Compact   Convertible   \n",
       "\n",
       "   highway_mpg  city_mpg  popularity   msrp  \n",
       "0           26        19        3916  46135  \n",
       "1           28        19        3916  40650  \n",
       "2           28        20        3916  36350  \n",
       "3           28        18        3916  29450  \n",
       "4           28        18        3916  34500  "
      ]
     },
     "execution_count": 4,
     "metadata": {},
     "output_type": "execute_result"
    }
   ],
   "source": [
    "# normalize column name\n",
    "df.columns = df.columns.str.lower().str.replace(' ', '_')\n",
    "df.head()"
   ]
  },
  {
   "cell_type": "code",
   "execution_count": 5,
   "id": "2a85fa40-2dd6-44ed-bce9-1dd1ea7f491c",
   "metadata": {},
   "outputs": [
    {
     "data": {
      "text/html": [
       "<div>\n",
       "<style scoped>\n",
       "    .dataframe tbody tr th:only-of-type {\n",
       "        vertical-align: middle;\n",
       "    }\n",
       "\n",
       "    .dataframe tbody tr th {\n",
       "        vertical-align: top;\n",
       "    }\n",
       "\n",
       "    .dataframe thead th {\n",
       "        text-align: right;\n",
       "    }\n",
       "</style>\n",
       "<table border=\"1\" class=\"dataframe\">\n",
       "  <thead>\n",
       "    <tr style=\"text-align: right;\">\n",
       "      <th></th>\n",
       "      <th>make</th>\n",
       "      <th>model</th>\n",
       "      <th>engine_fuel_type</th>\n",
       "      <th>transmission_type</th>\n",
       "      <th>driven_wheels</th>\n",
       "      <th>market_category</th>\n",
       "      <th>vehicle_size</th>\n",
       "      <th>vehicle_style</th>\n",
       "    </tr>\n",
       "  </thead>\n",
       "  <tbody>\n",
       "    <tr>\n",
       "      <th>0</th>\n",
       "      <td>BMW</td>\n",
       "      <td>1 Series M</td>\n",
       "      <td>premium unleaded (required)</td>\n",
       "      <td>MANUAL</td>\n",
       "      <td>rear wheel drive</td>\n",
       "      <td>Factory Tuner,Luxury,High-Performance</td>\n",
       "      <td>Compact</td>\n",
       "      <td>Coupe</td>\n",
       "    </tr>\n",
       "    <tr>\n",
       "      <th>1</th>\n",
       "      <td>BMW</td>\n",
       "      <td>1 Series</td>\n",
       "      <td>premium unleaded (required)</td>\n",
       "      <td>MANUAL</td>\n",
       "      <td>rear wheel drive</td>\n",
       "      <td>Luxury,Performance</td>\n",
       "      <td>Compact</td>\n",
       "      <td>Convertible</td>\n",
       "    </tr>\n",
       "    <tr>\n",
       "      <th>2</th>\n",
       "      <td>BMW</td>\n",
       "      <td>1 Series</td>\n",
       "      <td>premium unleaded (required)</td>\n",
       "      <td>MANUAL</td>\n",
       "      <td>rear wheel drive</td>\n",
       "      <td>Luxury,High-Performance</td>\n",
       "      <td>Compact</td>\n",
       "      <td>Coupe</td>\n",
       "    </tr>\n",
       "    <tr>\n",
       "      <th>3</th>\n",
       "      <td>BMW</td>\n",
       "      <td>1 Series</td>\n",
       "      <td>premium unleaded (required)</td>\n",
       "      <td>MANUAL</td>\n",
       "      <td>rear wheel drive</td>\n",
       "      <td>Luxury,Performance</td>\n",
       "      <td>Compact</td>\n",
       "      <td>Coupe</td>\n",
       "    </tr>\n",
       "    <tr>\n",
       "      <th>4</th>\n",
       "      <td>BMW</td>\n",
       "      <td>1 Series</td>\n",
       "      <td>premium unleaded (required)</td>\n",
       "      <td>MANUAL</td>\n",
       "      <td>rear wheel drive</td>\n",
       "      <td>Luxury</td>\n",
       "      <td>Compact</td>\n",
       "      <td>Convertible</td>\n",
       "    </tr>\n",
       "    <tr>\n",
       "      <th>...</th>\n",
       "      <td>...</td>\n",
       "      <td>...</td>\n",
       "      <td>...</td>\n",
       "      <td>...</td>\n",
       "      <td>...</td>\n",
       "      <td>...</td>\n",
       "      <td>...</td>\n",
       "      <td>...</td>\n",
       "    </tr>\n",
       "    <tr>\n",
       "      <th>11909</th>\n",
       "      <td>Acura</td>\n",
       "      <td>ZDX</td>\n",
       "      <td>premium unleaded (required)</td>\n",
       "      <td>AUTOMATIC</td>\n",
       "      <td>all wheel drive</td>\n",
       "      <td>Crossover,Hatchback,Luxury</td>\n",
       "      <td>Midsize</td>\n",
       "      <td>4dr Hatchback</td>\n",
       "    </tr>\n",
       "    <tr>\n",
       "      <th>11910</th>\n",
       "      <td>Acura</td>\n",
       "      <td>ZDX</td>\n",
       "      <td>premium unleaded (required)</td>\n",
       "      <td>AUTOMATIC</td>\n",
       "      <td>all wheel drive</td>\n",
       "      <td>Crossover,Hatchback,Luxury</td>\n",
       "      <td>Midsize</td>\n",
       "      <td>4dr Hatchback</td>\n",
       "    </tr>\n",
       "    <tr>\n",
       "      <th>11911</th>\n",
       "      <td>Acura</td>\n",
       "      <td>ZDX</td>\n",
       "      <td>premium unleaded (required)</td>\n",
       "      <td>AUTOMATIC</td>\n",
       "      <td>all wheel drive</td>\n",
       "      <td>Crossover,Hatchback,Luxury</td>\n",
       "      <td>Midsize</td>\n",
       "      <td>4dr Hatchback</td>\n",
       "    </tr>\n",
       "    <tr>\n",
       "      <th>11912</th>\n",
       "      <td>Acura</td>\n",
       "      <td>ZDX</td>\n",
       "      <td>premium unleaded (recommended)</td>\n",
       "      <td>AUTOMATIC</td>\n",
       "      <td>all wheel drive</td>\n",
       "      <td>Crossover,Hatchback,Luxury</td>\n",
       "      <td>Midsize</td>\n",
       "      <td>4dr Hatchback</td>\n",
       "    </tr>\n",
       "    <tr>\n",
       "      <th>11913</th>\n",
       "      <td>Lincoln</td>\n",
       "      <td>Zephyr</td>\n",
       "      <td>regular unleaded</td>\n",
       "      <td>AUTOMATIC</td>\n",
       "      <td>front wheel drive</td>\n",
       "      <td>Luxury</td>\n",
       "      <td>Midsize</td>\n",
       "      <td>Sedan</td>\n",
       "    </tr>\n",
       "  </tbody>\n",
       "</table>\n",
       "<p>11914 rows × 8 columns</p>\n",
       "</div>"
      ],
      "text/plain": [
       "          make       model                engine_fuel_type transmission_type  \\\n",
       "0          BMW  1 Series M     premium unleaded (required)            MANUAL   \n",
       "1          BMW    1 Series     premium unleaded (required)            MANUAL   \n",
       "2          BMW    1 Series     premium unleaded (required)            MANUAL   \n",
       "3          BMW    1 Series     premium unleaded (required)            MANUAL   \n",
       "4          BMW    1 Series     premium unleaded (required)            MANUAL   \n",
       "...        ...         ...                             ...               ...   \n",
       "11909    Acura         ZDX     premium unleaded (required)         AUTOMATIC   \n",
       "11910    Acura         ZDX     premium unleaded (required)         AUTOMATIC   \n",
       "11911    Acura         ZDX     premium unleaded (required)         AUTOMATIC   \n",
       "11912    Acura         ZDX  premium unleaded (recommended)         AUTOMATIC   \n",
       "11913  Lincoln      Zephyr                regular unleaded         AUTOMATIC   \n",
       "\n",
       "           driven_wheels                        market_category vehicle_size  \\\n",
       "0       rear wheel drive  Factory Tuner,Luxury,High-Performance      Compact   \n",
       "1       rear wheel drive                     Luxury,Performance      Compact   \n",
       "2       rear wheel drive                Luxury,High-Performance      Compact   \n",
       "3       rear wheel drive                     Luxury,Performance      Compact   \n",
       "4       rear wheel drive                                 Luxury      Compact   \n",
       "...                  ...                                    ...          ...   \n",
       "11909    all wheel drive             Crossover,Hatchback,Luxury      Midsize   \n",
       "11910    all wheel drive             Crossover,Hatchback,Luxury      Midsize   \n",
       "11911    all wheel drive             Crossover,Hatchback,Luxury      Midsize   \n",
       "11912    all wheel drive             Crossover,Hatchback,Luxury      Midsize   \n",
       "11913  front wheel drive                                 Luxury      Midsize   \n",
       "\n",
       "       vehicle_style  \n",
       "0              Coupe  \n",
       "1        Convertible  \n",
       "2              Coupe  \n",
       "3              Coupe  \n",
       "4        Convertible  \n",
       "...              ...  \n",
       "11909  4dr Hatchback  \n",
       "11910  4dr Hatchback  \n",
       "11911  4dr Hatchback  \n",
       "11912  4dr Hatchback  \n",
       "11913          Sedan  \n",
       "\n",
       "[11914 rows x 8 columns]"
      ]
     },
     "execution_count": 5,
     "metadata": {},
     "output_type": "execute_result"
    }
   ],
   "source": [
    "string_cols = list(df.dtypes[df.dtypes == 'object'].index)\n",
    "df[string_cols]"
   ]
  },
  {
   "cell_type": "code",
   "execution_count": 6,
   "id": "8ce1fbcc-99fb-419d-824b-3b76839e96a4",
   "metadata": {},
   "outputs": [
    {
     "data": {
      "text/html": [
       "<div>\n",
       "<style scoped>\n",
       "    .dataframe tbody tr th:only-of-type {\n",
       "        vertical-align: middle;\n",
       "    }\n",
       "\n",
       "    .dataframe tbody tr th {\n",
       "        vertical-align: top;\n",
       "    }\n",
       "\n",
       "    .dataframe thead th {\n",
       "        text-align: right;\n",
       "    }\n",
       "</style>\n",
       "<table border=\"1\" class=\"dataframe\">\n",
       "  <thead>\n",
       "    <tr style=\"text-align: right;\">\n",
       "      <th></th>\n",
       "      <th>make</th>\n",
       "      <th>model</th>\n",
       "      <th>year</th>\n",
       "      <th>engine_fuel_type</th>\n",
       "      <th>engine_hp</th>\n",
       "      <th>engine_cylinders</th>\n",
       "      <th>transmission_type</th>\n",
       "      <th>driven_wheels</th>\n",
       "      <th>number_of_doors</th>\n",
       "      <th>market_category</th>\n",
       "      <th>vehicle_size</th>\n",
       "      <th>vehicle_style</th>\n",
       "      <th>highway_mpg</th>\n",
       "      <th>city_mpg</th>\n",
       "      <th>popularity</th>\n",
       "      <th>msrp</th>\n",
       "    </tr>\n",
       "  </thead>\n",
       "  <tbody>\n",
       "    <tr>\n",
       "      <th>0</th>\n",
       "      <td>bmw</td>\n",
       "      <td>1_series_m</td>\n",
       "      <td>2011</td>\n",
       "      <td>premium_unleaded_(required)</td>\n",
       "      <td>335.0</td>\n",
       "      <td>6.0</td>\n",
       "      <td>manual</td>\n",
       "      <td>rear_wheel_drive</td>\n",
       "      <td>2.0</td>\n",
       "      <td>factory_tuner,luxury,high-performance</td>\n",
       "      <td>compact</td>\n",
       "      <td>coupe</td>\n",
       "      <td>26</td>\n",
       "      <td>19</td>\n",
       "      <td>3916</td>\n",
       "      <td>46135</td>\n",
       "    </tr>\n",
       "    <tr>\n",
       "      <th>1</th>\n",
       "      <td>bmw</td>\n",
       "      <td>1_series</td>\n",
       "      <td>2011</td>\n",
       "      <td>premium_unleaded_(required)</td>\n",
       "      <td>300.0</td>\n",
       "      <td>6.0</td>\n",
       "      <td>manual</td>\n",
       "      <td>rear_wheel_drive</td>\n",
       "      <td>2.0</td>\n",
       "      <td>luxury,performance</td>\n",
       "      <td>compact</td>\n",
       "      <td>convertible</td>\n",
       "      <td>28</td>\n",
       "      <td>19</td>\n",
       "      <td>3916</td>\n",
       "      <td>40650</td>\n",
       "    </tr>\n",
       "    <tr>\n",
       "      <th>2</th>\n",
       "      <td>bmw</td>\n",
       "      <td>1_series</td>\n",
       "      <td>2011</td>\n",
       "      <td>premium_unleaded_(required)</td>\n",
       "      <td>300.0</td>\n",
       "      <td>6.0</td>\n",
       "      <td>manual</td>\n",
       "      <td>rear_wheel_drive</td>\n",
       "      <td>2.0</td>\n",
       "      <td>luxury,high-performance</td>\n",
       "      <td>compact</td>\n",
       "      <td>coupe</td>\n",
       "      <td>28</td>\n",
       "      <td>20</td>\n",
       "      <td>3916</td>\n",
       "      <td>36350</td>\n",
       "    </tr>\n",
       "    <tr>\n",
       "      <th>3</th>\n",
       "      <td>bmw</td>\n",
       "      <td>1_series</td>\n",
       "      <td>2011</td>\n",
       "      <td>premium_unleaded_(required)</td>\n",
       "      <td>230.0</td>\n",
       "      <td>6.0</td>\n",
       "      <td>manual</td>\n",
       "      <td>rear_wheel_drive</td>\n",
       "      <td>2.0</td>\n",
       "      <td>luxury,performance</td>\n",
       "      <td>compact</td>\n",
       "      <td>coupe</td>\n",
       "      <td>28</td>\n",
       "      <td>18</td>\n",
       "      <td>3916</td>\n",
       "      <td>29450</td>\n",
       "    </tr>\n",
       "    <tr>\n",
       "      <th>4</th>\n",
       "      <td>bmw</td>\n",
       "      <td>1_series</td>\n",
       "      <td>2011</td>\n",
       "      <td>premium_unleaded_(required)</td>\n",
       "      <td>230.0</td>\n",
       "      <td>6.0</td>\n",
       "      <td>manual</td>\n",
       "      <td>rear_wheel_drive</td>\n",
       "      <td>2.0</td>\n",
       "      <td>luxury</td>\n",
       "      <td>compact</td>\n",
       "      <td>convertible</td>\n",
       "      <td>28</td>\n",
       "      <td>18</td>\n",
       "      <td>3916</td>\n",
       "      <td>34500</td>\n",
       "    </tr>\n",
       "  </tbody>\n",
       "</table>\n",
       "</div>"
      ],
      "text/plain": [
       "  make       model  year             engine_fuel_type  engine_hp  \\\n",
       "0  bmw  1_series_m  2011  premium_unleaded_(required)      335.0   \n",
       "1  bmw    1_series  2011  premium_unleaded_(required)      300.0   \n",
       "2  bmw    1_series  2011  premium_unleaded_(required)      300.0   \n",
       "3  bmw    1_series  2011  premium_unleaded_(required)      230.0   \n",
       "4  bmw    1_series  2011  premium_unleaded_(required)      230.0   \n",
       "\n",
       "   engine_cylinders transmission_type     driven_wheels  number_of_doors  \\\n",
       "0               6.0            manual  rear_wheel_drive              2.0   \n",
       "1               6.0            manual  rear_wheel_drive              2.0   \n",
       "2               6.0            manual  rear_wheel_drive              2.0   \n",
       "3               6.0            manual  rear_wheel_drive              2.0   \n",
       "4               6.0            manual  rear_wheel_drive              2.0   \n",
       "\n",
       "                         market_category vehicle_size vehicle_style  \\\n",
       "0  factory_tuner,luxury,high-performance      compact         coupe   \n",
       "1                     luxury,performance      compact   convertible   \n",
       "2                luxury,high-performance      compact         coupe   \n",
       "3                     luxury,performance      compact         coupe   \n",
       "4                                 luxury      compact   convertible   \n",
       "\n",
       "   highway_mpg  city_mpg  popularity   msrp  \n",
       "0           26        19        3916  46135  \n",
       "1           28        19        3916  40650  \n",
       "2           28        20        3916  36350  \n",
       "3           28        18        3916  29450  \n",
       "4           28        18        3916  34500  "
      ]
     },
     "execution_count": 6,
     "metadata": {},
     "output_type": "execute_result"
    }
   ],
   "source": [
    "for col in string_cols:\n",
    "    df[col] = df[col].str.lower().str.replace(' ', '_')\n",
    "df.head()"
   ]
  },
  {
   "cell_type": "code",
   "execution_count": 7,
   "id": "b81ffb7b-d5b8-4fa6-be83-95f677da970a",
   "metadata": {},
   "outputs": [
    {
     "name": "stdout",
     "output_type": "stream",
     "text": [
      "make\n",
      "['bmw' 'audi' 'fiat' 'mercedes-benz' 'chrysler']\n",
      "48\n",
      "\n",
      "model\n",
      "['1_series_m' '1_series' '100' '124_spider' '190-class']\n",
      "914\n",
      "\n",
      "year\n",
      "[2011 2012 2013 1992 1993]\n",
      "28\n",
      "\n",
      "engine_fuel_type\n",
      "['premium_unleaded_(required)' 'regular_unleaded'\n",
      " 'premium_unleaded_(recommended)' 'flex-fuel_(unleaded/e85)' 'diesel']\n",
      "10\n",
      "\n",
      "engine_hp\n",
      "[335. 300. 230. 320. 172.]\n",
      "356\n",
      "\n",
      "engine_cylinders\n",
      "[ 6.  4.  5.  8. 12.]\n",
      "9\n",
      "\n",
      "transmission_type\n",
      "['manual' 'automatic' 'automated_manual' 'direct_drive' 'unknown']\n",
      "5\n",
      "\n",
      "driven_wheels\n",
      "['rear_wheel_drive' 'front_wheel_drive' 'all_wheel_drive'\n",
      " 'four_wheel_drive']\n",
      "4\n",
      "\n",
      "number_of_doors\n",
      "[ 2.  4.  3. nan]\n",
      "3\n",
      "\n",
      "market_category\n",
      "['factory_tuner,luxury,high-performance' 'luxury,performance'\n",
      " 'luxury,high-performance' 'luxury' 'performance']\n",
      "71\n",
      "\n",
      "vehicle_size\n",
      "['compact' 'midsize' 'large']\n",
      "3\n",
      "\n",
      "vehicle_style\n",
      "['coupe' 'convertible' 'sedan' 'wagon' '4dr_hatchback']\n",
      "16\n",
      "\n",
      "highway_mpg\n",
      "[26 28 27 25 24]\n",
      "59\n",
      "\n",
      "city_mpg\n",
      "[19 20 18 17 16]\n",
      "69\n",
      "\n",
      "popularity\n",
      "[3916 3105  819  617 1013]\n",
      "48\n",
      "\n",
      "msrp\n",
      "[46135 40650 36350 29450 34500]\n",
      "6049\n",
      "\n"
     ]
    }
   ],
   "source": [
    "for col in df.columns:\n",
    "    print(col)\n",
    "    print(df[col].unique()[:5])\n",
    "    print(df[col].nunique())\n",
    "    print()"
   ]
  },
  {
   "cell_type": "code",
   "execution_count": 8,
   "id": "c417517b-e568-4126-ae39-e3b7fc864b00",
   "metadata": {},
   "outputs": [
    {
     "name": "stderr",
     "output_type": "stream",
     "text": [
      "Matplotlib is building the font cache; this may take a moment.\n"
     ]
    }
   ],
   "source": [
    "import matplotlib.pyplot as plt\n",
    "import seaborn as sns\n",
    "%matplotlib inline"
   ]
  },
  {
   "cell_type": "code",
   "execution_count": 9,
   "id": "48301463-a173-4c7f-af5c-a3929565b078",
   "metadata": {},
   "outputs": [
    {
     "data": {
      "text/plain": [
       "<Axes: xlabel='msrp', ylabel='Count'>"
      ]
     },
     "execution_count": 9,
     "metadata": {},
     "output_type": "execute_result"
    },
    {
     "data": {
      "image/png": "[encoded data removed]",
      "text/plain": [
       "<Figure size 640x480 with 1 Axes>"
      ]
     },
     "metadata": {},
     "output_type": "display_data"
    }
   ],
   "source": [
    "sns.histplot(df.msrp[df.msrp < 10**5], bins=50)"
   ]
  },
  {
   "cell_type": "code",
   "execution_count": 10,
   "id": "e7d179f0-b46d-4eeb-859a-42c3dc9ede14",
   "metadata": {},
   "outputs": [
    {
     "data": {
      "text/plain": [
       "<Axes: xlabel='msrp', ylabel='Count'>"
      ]
     },
     "execution_count": 10,
     "metadata": {},
     "output_type": "execute_result"
    },
    {
     "data": {
      "image/png": "[encoded data removed]",
      "text/plain": [
       "<Figure size 640x480 with 1 Axes>"
      ]
     },
     "metadata": {},
     "output_type": "display_data"
    }
   ],
   "source": [
    "import numpy as np\n",
    "price_logs = np.log1p(df.msrp)\n",
    "sns.histplot(price_logs, bins=50)"
   ]
  },
  {
   "cell_type": "code",
   "execution_count": 11,
   "id": "1976c01a-6c31-4732-b49f-34a02b5e2db4",
   "metadata": {},
   "outputs": [
    {
     "data": {
      "text/plain": [
       "make                    0\n",
       "model                   0\n",
       "year                    0\n",
       "engine_fuel_type        3\n",
       "engine_hp              69\n",
       "engine_cylinders       30\n",
       "transmission_type       0\n",
       "driven_wheels           0\n",
       "number_of_doors         6\n",
       "market_category      3742\n",
       "vehicle_size            0\n",
       "vehicle_style           0\n",
       "highway_mpg             0\n",
       "city_mpg                0\n",
       "popularity              0\n",
       "msrp                    0\n",
       "dtype: int64"
      ]
     },
     "execution_count": 11,
     "metadata": {},
     "output_type": "execute_result"
    }
   ],
   "source": [
    "df.isnull().sum()"
   ]
  },
  {
   "cell_type": "markdown",
   "id": "76f87c8b",
   "metadata": {},
   "source": [
    "VALIDATION FRAMEWORK"
   ]
  },
  {
   "cell_type": "code",
   "execution_count": 15,
   "id": "d5676485-e132-411f-b6b2-bc9566c02a8d",
   "metadata": {},
   "outputs": [
    {
     "data": {
      "text/plain": [
       "2382"
      ]
     },
     "execution_count": 15,
     "metadata": {},
     "output_type": "execute_result"
    }
   ],
   "source": [
    "n = len(df)\n",
    "n_val = int(n*0.2)\n",
    "n_test = n_val\n",
    "n_train = n - 2*n_test\n",
    "n_val"
   ]
  },
  {
   "cell_type": "code",
   "execution_count": 20,
   "id": "d9865578-e816-4fea-85a6-a1fb830dff60",
   "metadata": {},
   "outputs": [],
   "source": [
    "idx = np.arange(n)\n",
    "np.random.seed(2)\n",
    "np.random.shuffle(idx)\n",
    "df_shuffled = df.iloc[idx]\n",
    "\n",
    "df_train = df_shuffled.iloc[:n_train].copy()\n",
    "df_val = df_shuffled.iloc[n_train:n_train+n_val].copy()\n",
    "df_test = df_shuffled.iloc[n_train+n_val:].copy()"
   ]
  },
  {
   "cell_type": "code",
   "execution_count": 22,
   "id": "e73f0403-bcfa-4971-83cb-1c73b54d2279",
   "metadata": {},
   "outputs": [
    {
     "data": {
      "text/plain": [
       "(7150, 2382, 2382)"
      ]
     },
     "execution_count": 22,
     "metadata": {},
     "output_type": "execute_result"
    }
   ],
   "source": [
    "len(df_train), len(df_val), len(df_test)"
   ]
  },
  {
   "cell_type": "code",
   "execution_count": 25,
   "id": "a72a3631",
   "metadata": {},
   "outputs": [
    {
     "data": {
      "text/html": [
       "<div>\n",
       "<style scoped>\n",
       "    .dataframe tbody tr th:only-of-type {\n",
       "        vertical-align: middle;\n",
       "    }\n",
       "\n",
       "    .dataframe tbody tr th {\n",
       "        vertical-align: top;\n",
       "    }\n",
       "\n",
       "    .dataframe thead th {\n",
       "        text-align: right;\n",
       "    }\n",
       "</style>\n",
       "<table border=\"1\" class=\"dataframe\">\n",
       "  <thead>\n",
       "    <tr style=\"text-align: right;\">\n",
       "      <th></th>\n",
       "      <th>make</th>\n",
       "      <th>model</th>\n",
       "      <th>year</th>\n",
       "      <th>engine_fuel_type</th>\n",
       "      <th>engine_hp</th>\n",
       "      <th>engine_cylinders</th>\n",
       "      <th>transmission_type</th>\n",
       "      <th>driven_wheels</th>\n",
       "      <th>number_of_doors</th>\n",
       "      <th>market_category</th>\n",
       "      <th>vehicle_size</th>\n",
       "      <th>vehicle_style</th>\n",
       "      <th>highway_mpg</th>\n",
       "      <th>city_mpg</th>\n",
       "      <th>popularity</th>\n",
       "      <th>msrp</th>\n",
       "    </tr>\n",
       "  </thead>\n",
       "  <tbody>\n",
       "    <tr>\n",
       "      <th>0</th>\n",
       "      <td>chevrolet</td>\n",
       "      <td>cobalt</td>\n",
       "      <td>2008</td>\n",
       "      <td>regular_unleaded</td>\n",
       "      <td>148.0</td>\n",
       "      <td>4.0</td>\n",
       "      <td>manual</td>\n",
       "      <td>front_wheel_drive</td>\n",
       "      <td>2.0</td>\n",
       "      <td>NaN</td>\n",
       "      <td>compact</td>\n",
       "      <td>coupe</td>\n",
       "      <td>33</td>\n",
       "      <td>24</td>\n",
       "      <td>1385</td>\n",
       "      <td>14410</td>\n",
       "    </tr>\n",
       "    <tr>\n",
       "      <th>1</th>\n",
       "      <td>toyota</td>\n",
       "      <td>matrix</td>\n",
       "      <td>2012</td>\n",
       "      <td>regular_unleaded</td>\n",
       "      <td>132.0</td>\n",
       "      <td>4.0</td>\n",
       "      <td>automatic</td>\n",
       "      <td>front_wheel_drive</td>\n",
       "      <td>4.0</td>\n",
       "      <td>hatchback</td>\n",
       "      <td>compact</td>\n",
       "      <td>4dr_hatchback</td>\n",
       "      <td>32</td>\n",
       "      <td>25</td>\n",
       "      <td>2031</td>\n",
       "      <td>19685</td>\n",
       "    </tr>\n",
       "    <tr>\n",
       "      <th>2</th>\n",
       "      <td>subaru</td>\n",
       "      <td>impreza</td>\n",
       "      <td>2016</td>\n",
       "      <td>regular_unleaded</td>\n",
       "      <td>148.0</td>\n",
       "      <td>4.0</td>\n",
       "      <td>automatic</td>\n",
       "      <td>all_wheel_drive</td>\n",
       "      <td>4.0</td>\n",
       "      <td>hatchback</td>\n",
       "      <td>compact</td>\n",
       "      <td>4dr_hatchback</td>\n",
       "      <td>37</td>\n",
       "      <td>28</td>\n",
       "      <td>640</td>\n",
       "      <td>19795</td>\n",
       "    </tr>\n",
       "    <tr>\n",
       "      <th>3</th>\n",
       "      <td>volkswagen</td>\n",
       "      <td>vanagon</td>\n",
       "      <td>1991</td>\n",
       "      <td>regular_unleaded</td>\n",
       "      <td>90.0</td>\n",
       "      <td>4.0</td>\n",
       "      <td>manual</td>\n",
       "      <td>rear_wheel_drive</td>\n",
       "      <td>3.0</td>\n",
       "      <td>NaN</td>\n",
       "      <td>large</td>\n",
       "      <td>passenger_minivan</td>\n",
       "      <td>18</td>\n",
       "      <td>16</td>\n",
       "      <td>873</td>\n",
       "      <td>2000</td>\n",
       "    </tr>\n",
       "    <tr>\n",
       "      <th>4</th>\n",
       "      <td>ford</td>\n",
       "      <td>f-150</td>\n",
       "      <td>2017</td>\n",
       "      <td>flex-fuel_(unleaded/e85)</td>\n",
       "      <td>385.0</td>\n",
       "      <td>8.0</td>\n",
       "      <td>automatic</td>\n",
       "      <td>four_wheel_drive</td>\n",
       "      <td>4.0</td>\n",
       "      <td>flex_fuel</td>\n",
       "      <td>large</td>\n",
       "      <td>crew_cab_pickup</td>\n",
       "      <td>21</td>\n",
       "      <td>15</td>\n",
       "      <td>5657</td>\n",
       "      <td>56260</td>\n",
       "    </tr>\n",
       "  </tbody>\n",
       "</table>\n",
       "</div>"
      ],
      "text/plain": [
       "         make    model  year          engine_fuel_type  engine_hp  \\\n",
       "0   chevrolet   cobalt  2008          regular_unleaded      148.0   \n",
       "1      toyota   matrix  2012          regular_unleaded      132.0   \n",
       "2      subaru  impreza  2016          regular_unleaded      148.0   \n",
       "3  volkswagen  vanagon  1991          regular_unleaded       90.0   \n",
       "4        ford    f-150  2017  flex-fuel_(unleaded/e85)      385.0   \n",
       "\n",
       "   engine_cylinders transmission_type      driven_wheels  number_of_doors  \\\n",
       "0               4.0            manual  front_wheel_drive              2.0   \n",
       "1               4.0         automatic  front_wheel_drive              4.0   \n",
       "2               4.0         automatic    all_wheel_drive              4.0   \n",
       "3               4.0            manual   rear_wheel_drive              3.0   \n",
       "4               8.0         automatic   four_wheel_drive              4.0   \n",
       "\n",
       "  market_category vehicle_size      vehicle_style  highway_mpg  city_mpg  \\\n",
       "0             NaN      compact              coupe           33        24   \n",
       "1       hatchback      compact      4dr_hatchback           32        25   \n",
       "2       hatchback      compact      4dr_hatchback           37        28   \n",
       "3             NaN        large  passenger_minivan           18        16   \n",
       "4       flex_fuel        large    crew_cab_pickup           21        15   \n",
       "\n",
       "   popularity   msrp  \n",
       "0        1385  14410  \n",
       "1        2031  19685  \n",
       "2         640  19795  \n",
       "3         873   2000  \n",
       "4        5657  56260  "
      ]
     },
     "execution_count": 25,
     "metadata": {},
     "output_type": "execute_result"
    }
   ],
   "source": [
    "df_train = df_train.reset_index(drop=True)\n",
    "df_val = df_val.reset_index(drop=True)\n",
    "df_test = df_test.reset_index(drop=True)\n",
    "df_train.head()"
   ]
  },
  {
   "cell_type": "code",
   "execution_count": 29,
   "id": "c2e362ee",
   "metadata": {},
   "outputs": [],
   "source": [
    "y_train = np.log1p(df_train.msrp.values)\n",
    "y_val = np.log1p(df_val.msrp.values)\n",
    "y_test = np.log1p(df_test.msrp.values)"
   ]
  },
  {
   "cell_type": "code",
   "execution_count": 30,
   "id": "444f008a",
   "metadata": {},
   "outputs": [],
   "source": [
    "del df_train['msrp']\n",
    "del df_val['msrp']\n",
    "del df_test['msrp']"
   ]
  },
  {
   "cell_type": "markdown",
   "id": "ad7e50bb",
   "metadata": {},
   "source": [
    "LINEAR REGRESSION"
   ]
  },
  {
   "cell_type": "code",
   "execution_count": 33,
   "id": "ec22bd2a",
   "metadata": {},
   "outputs": [],
   "source": [
    "def dot(xi, w):\n",
    "    n = len(xi)\n",
    "    res = 0\n",
    "    for j in range(n):\n",
    "        res = res + xi[j] * w[j]\n",
    "    return res"
   ]
  },
  {
   "cell_type": "code",
   "execution_count": null,
   "id": "2dfa3340",
   "metadata": {},
   "outputs": [],
   "source": [
    "#w_new = weight vector\n",
    "def linear_regression(xi):\n",
    "    xi = [1] + xi\n",
    "    return dot(xi,w_new)"
   ]
  },
  {
   "cell_type": "code",
   "execution_count": 104,
   "id": "58f80373",
   "metadata": {},
   "outputs": [],
   "source": [
    "def train_linear_regression(X, y):\n",
    "    ones = np.ones(X.shape[0])\n",
    "    X = np.column_stack([ones, X])\n",
    "    XTX = X.T.dot(X)\n",
    "    XTX_inv = np.linalg.inv(XTX)\n",
    "    w_full = XTX_inv.dot(X.T).dot(y)\n",
    "    return w_full[0], w_full[1:]"
   ]
  },
  {
   "cell_type": "code",
   "execution_count": 36,
   "id": "1761e522",
   "metadata": {},
   "outputs": [
    {
     "data": {
      "text/plain": [
       "make                  object\n",
       "model                 object\n",
       "year                   int64\n",
       "engine_fuel_type      object\n",
       "engine_hp            float64\n",
       "engine_cylinders     float64\n",
       "transmission_type     object\n",
       "driven_wheels         object\n",
       "number_of_doors      float64\n",
       "market_category       object\n",
       "vehicle_size          object\n",
       "vehicle_style         object\n",
       "highway_mpg            int64\n",
       "city_mpg               int64\n",
       "popularity             int64\n",
       "dtype: object"
      ]
     },
     "execution_count": 36,
     "metadata": {},
     "output_type": "execute_result"
    }
   ],
   "source": [
    "df_train.dtypes"
   ]
  },
  {
   "cell_type": "markdown",
   "id": "dab5ff1d",
   "metadata": {},
   "source": [
    "BASELINE"
   ]
  },
  {
   "cell_type": "code",
   "execution_count": 58,
   "id": "5f627321",
   "metadata": {},
   "outputs": [],
   "source": [
    "base = ['engine_hp', 'engine_cylinders', 'highway_mpg', 'city_mpg', 'popularity']"
   ]
  },
  {
   "cell_type": "code",
   "execution_count": 105,
   "id": "818390fc",
   "metadata": {},
   "outputs": [],
   "source": [
    "def prepare_X(df):\n",
    "    df = df.copy()\n",
    "    features = base.copy()\n",
    "\n",
    "    df['age'] = 2017 - df.year\n",
    "    features.append('age')\n",
    "\n",
    "    df_num = df[features]\n",
    "    df_num = df_num.fillna(0)\n",
    "    X = df_num.values\n",
    "    return X"
   ]
  },
  {
   "cell_type": "code",
   "execution_count": 55,
   "id": "0d115e19",
   "metadata": {},
   "outputs": [],
   "source": [
    "X_train = prepare_X(df_train)\n",
    "w_0, w = train_linear_regression(X_train, y_train)\n",
    "y_pred = w_0 + X_train.dot(w)"
   ]
  },
  {
   "cell_type": "code",
   "execution_count": 56,
   "id": "e7544c05",
   "metadata": {},
   "outputs": [
    {
     "data": {
      "text/plain": [
       "<Axes: ylabel='Count'>"
      ]
     },
     "execution_count": 56,
     "metadata": {},
     "output_type": "execute_result"
    },
    {
     "data": {
      "image/png": "[encoded data removed]",
      "text/plain": [
       "<Figure size 640x480 with 1 Axes>"
      ]
     },
     "metadata": {},
     "output_type": "display_data"
    }
   ],
   "source": [
    "sns.histplot(y_pred)\n",
    "sns.histplot(y_train)"
   ]
  },
  {
   "cell_type": "code",
   "execution_count": 107,
   "id": "5c9b2d5c",
   "metadata": {},
   "outputs": [],
   "source": [
    "def rmse(y, y_pred):\n",
    "    error = y_pred - y\n",
    "    mse = (error ** 2).mean()\n",
    "    return np.sqrt(mse)"
   ]
  },
  {
   "cell_type": "code",
   "execution_count": 57,
   "id": "db6e5499",
   "metadata": {},
   "outputs": [
    {
     "data": {
      "text/plain": [
       "np.float64(0.5175055465840046)"
      ]
     },
     "execution_count": 57,
     "metadata": {},
     "output_type": "execute_result"
    }
   ],
   "source": [
    "res = rmse(y_train, y_pred)\n",
    "res"
   ]
  },
  {
   "cell_type": "markdown",
   "id": "ea567637",
   "metadata": {},
   "source": [
    "CATEGORICAL VARIABLES"
   ]
  },
  {
   "cell_type": "code",
   "execution_count": 65,
   "id": "0eacd7a9",
   "metadata": {},
   "outputs": [],
   "source": [
    "def prepare_X(df):\n",
    "    df = df.copy()\n",
    "    features = base.copy()\n",
    "    \n",
    "    df['age'] = df['year'].max() - df['year']\n",
    "    features.append('age')\n",
    "    \n",
    "    for v in [2,3,4]:\n",
    "        df['num_doors_%s' % v] = (df.number_of_doors == v).astype('int')\n",
    "        features.append('num_doors_%s' % v)\n",
    "    \n",
    "    df_num = df[features]\n",
    "    df_num = df_num.fillna(0)\n",
    "    X = df_num.values\n",
    "    return X"
   ]
  },
  {
   "cell_type": "code",
   "execution_count": 110,
   "id": "21b73336",
   "metadata": {},
   "outputs": [
    {
     "name": "stdout",
     "output_type": "stream",
     "text": [
      "train 0.5175055465840046\n",
      "pred size 7150\n",
      "validation 0.5172055461058309\n",
      "pred size 2382\n"
     ]
    }
   ],
   "source": [
    "X_train = prepare_X(df_train)\n",
    "w_0, w = train_linear_regression(X_train, y_train)\n",
    "\n",
    "y_pred = w_0 + X_train.dot(w)\n",
    "print('train', rmse(y_train, y_pred))\n",
    "print('pred size', len(y_pred))\n",
    "\n",
    "X_val = prepare_X(df_val)\n",
    "y_pred = w_0 + X_val.dot(w)\n",
    "print('validation', rmse(y_val, y_pred))\n",
    "print('pred size', len(y_pred))"
   ]
  },
  {
   "cell_type": "code",
   "execution_count": 72,
   "id": "2ea179cc",
   "metadata": {},
   "outputs": [
    {
     "data": {
      "text/plain": [
       "['chevrolet', 'ford', 'volkswagen', 'toyota', 'dodge']"
      ]
     },
     "execution_count": 72,
     "metadata": {},
     "output_type": "execute_result"
    }
   ],
   "source": [
    "list(df.make.value_counts().head().index)"
   ]
  },
  {
   "cell_type": "code",
   "execution_count": 73,
   "id": "ed71d1e4",
   "metadata": {},
   "outputs": [],
   "source": [
    "def prepare_X(df):\n",
    "    df = df.copy()\n",
    "    features = base.copy()\n",
    "    \n",
    "    df['age'] = df['year'].max() - df['year']\n",
    "    features.append('age')\n",
    "    \n",
    "    for v in [2,3,4]:\n",
    "        df['num_doors_%s' % v] = (df.number_of_doors == v).astype('int')\n",
    "        features.append('num_doors_%s' % v)\n",
    "    car_makes = list(df.make.value_counts().head().index)\n",
    "    for v in car_makes:\n",
    "        df['make_%s' % v] = (df.make == v).astype('int')\n",
    "        features.append('make_%s' % v)\n",
    "\n",
    "    df_num = df[features]\n",
    "    df_num = df_num.fillna(0)\n",
    "    X = df_num.values\n",
    "    return X"
   ]
  },
  {
   "cell_type": "code",
   "execution_count": 74,
   "id": "4a42f7cc",
   "metadata": {},
   "outputs": [
    {
     "data": {
      "text/plain": [
       "np.float64(0.5058876515487503)"
      ]
     },
     "execution_count": 74,
     "metadata": {},
     "output_type": "execute_result"
    }
   ],
   "source": [
    "X_train = prepare_X(df_train)\n",
    "X_train\n",
    "w_0, w = train_linear_regression(X_train, y_train)\n",
    "y_pred = w_0 + X_train.dot(w)\n",
    "\n",
    "res = rmse(y_train, y_pred)\n",
    "res"
   ]
  },
  {
   "cell_type": "code",
   "execution_count": 85,
   "id": "1da06aca",
   "metadata": {},
   "outputs": [
    {
     "data": {
      "text/plain": [
       "{'make': ['chevrolet', 'ford', 'volkswagen', 'toyota', 'dodge'],\n",
       " 'model': ['silverado_1500',\n",
       "  'tundra',\n",
       "  'f-150',\n",
       "  'sierra_1500',\n",
       "  'beetle_convertible'],\n",
       " 'engine_fuel_type': ['regular_unleaded',\n",
       "  'premium_unleaded_(required)',\n",
       "  'premium_unleaded_(recommended)',\n",
       "  'flex-fuel_(unleaded/e85)',\n",
       "  'diesel'],\n",
       " 'transmission_type': ['automatic',\n",
       "  'manual',\n",
       "  'automated_manual',\n",
       "  'direct_drive',\n",
       "  'unknown'],\n",
       " 'driven_wheels': ['front_wheel_drive',\n",
       "  'rear_wheel_drive',\n",
       "  'all_wheel_drive',\n",
       "  'four_wheel_drive'],\n",
       " 'market_category': ['crossover',\n",
       "  'flex_fuel',\n",
       "  'luxury',\n",
       "  'luxury,performance',\n",
       "  'hatchback'],\n",
       " 'vehicle_size': ['compact', 'midsize', 'large'],\n",
       " 'vehicle_style': ['sedan',\n",
       "  '4dr_suv',\n",
       "  'coupe',\n",
       "  'convertible',\n",
       "  '4dr_hatchback']}"
      ]
     },
     "execution_count": 85,
     "metadata": {},
     "output_type": "execute_result"
    }
   ],
   "source": [
    "obj_features=list(df.dtypes[df.dtypes == object].index)\n",
    "categories = {}\n",
    "for c in obj_features:\n",
    "    categories[c] = list(df[c].value_counts().head().index)\n",
    "categories"
   ]
  },
  {
   "cell_type": "code",
   "execution_count": 86,
   "id": "5fe2b1ba",
   "metadata": {},
   "outputs": [],
   "source": [
    "def prepare_X(df):\n",
    "    df = df.copy()\n",
    "    features = base.copy()\n",
    "    \n",
    "    df['age'] = df['year'].max() - df['year']\n",
    "    features.append('age')\n",
    "    \n",
    "    for v in [2,3,4]:\n",
    "        df['num_doors_%s' % v] = (df.number_of_doors == v).astype('int')\n",
    "        features.append('num_doors_%s' % v)\n",
    "    \n",
    "    car_makes = list(df.make.value_counts().head().index)\n",
    "    \n",
    "    for c, values in categories.items():\n",
    "        for v in values:\n",
    "            df['%s_%s' % (c,v)] = (df[c] == v).astype('int')\n",
    "            features.append('%s_%s' % (c,v))\n",
    "\n",
    "    df_num = df[features]\n",
    "    df_num = df_num.fillna(0)\n",
    "    X = df_num.values\n",
    "    return X"
   ]
  },
  {
   "cell_type": "code",
   "execution_count": 87,
   "id": "22a1b716",
   "metadata": {},
   "outputs": [
    {
     "data": {
      "text/plain": [
       "np.float64(126.29374864955155)"
      ]
     },
     "execution_count": 87,
     "metadata": {},
     "output_type": "execute_result"
    }
   ],
   "source": [
    "X_train = prepare_X(df_train)\n",
    "X_train\n",
    "w_0, w = train_linear_regression(X_train, y_train)\n",
    "y_pred = w_0 + X_train.dot(w)\n",
    "\n",
    "res = rmse(y_train, y_pred)\n",
    "res"
   ]
  },
  {
   "cell_type": "code",
   "execution_count": 88,
   "id": "d6865e6a",
   "metadata": {},
   "outputs": [
    {
     "data": {
      "text/plain": [
       "-14167226133207940"
      ]
     },
     "execution_count": 88,
     "metadata": {},
     "output_type": "execute_result"
    }
   ],
   "source": [
    "int(w_0)"
   ]
  },
  {
   "cell_type": "markdown",
   "id": "c6134471",
   "metadata": {},
   "source": [
    "REGULARIZATION"
   ]
  },
  {
   "cell_type": "code",
   "execution_count": 89,
   "id": "cef96b1a",
   "metadata": {},
   "outputs": [],
   "source": [
    "def train_linear_regression_reg(X, y, r=0.001):\n",
    "    ones = np.ones(X.shape[0])\n",
    "    X = np.column_stack([ones, X])\n",
    "    XTX = X.T.dot(X)\n",
    "\n",
    "    XTX = XTX + r * (np.eye(XTX.shape[0]))\n",
    "\n",
    "    XTX_inv = np.linalg.inv(XTX)\n",
    "    w_full = XTX_inv.dot(X.T).dot(y)\n",
    "    return w_full[0], w_full[1:]"
   ]
  },
  {
   "cell_type": "code",
   "execution_count": 91,
   "id": "a0d3a919",
   "metadata": {},
   "outputs": [
    {
     "data": {
      "text/plain": [
       "np.float64(0.45481291962094983)"
      ]
     },
     "execution_count": 91,
     "metadata": {},
     "output_type": "execute_result"
    }
   ],
   "source": [
    "X_train = prepare_X(df_train)\n",
    "X_train\n",
    "w_0, w = train_linear_regression_reg(X_train, y_train)\n",
    "y_pred = w_0 + X_train.dot(w)\n",
    "\n",
    "res = rmse(y_train, y_pred)\n",
    "res"
   ]
  },
  {
   "cell_type": "code",
   "execution_count": 95,
   "id": "25966d24",
   "metadata": {},
   "outputs": [
    {
     "name": "stdout",
     "output_type": "stream",
     "text": [
      "0 -1.416722613320794e+16 126.29374864955155\n",
      "0.001 6.288285240283777 0.45481291962094983\n",
      "0.01 6.279148497697584 0.4548131464902543\n",
      "0.1 6.193822581077004 0.454833611759291\n",
      "1 5.637951754430992 0.4558034753792085\n",
      "10 4.288463855194 0.46961003953911507\n"
     ]
    }
   ],
   "source": [
    "for r in [0, 0.001, 0.01, 0.1, 1, 10]:\n",
    "    X_train = prepare_X(df_train)\n",
    "    X_train\n",
    "    w_0, w = train_linear_regression_reg(X_train, y_train, r=r)\n",
    "    y_pred = w_0 + X_train.dot(w)\n",
    "\n",
    "    score = rmse(y_train, y_pred)\n",
    "    print(r, w_0, score)\n",
    "#best = 0.01"
   ]
  },
  {
   "cell_type": "markdown",
   "id": "38e97ec9",
   "metadata": {},
   "source": [
    "USING MODEL"
   ]
  },
  {
   "cell_type": "code",
   "execution_count": 96,
   "id": "ea528fd0",
   "metadata": {},
   "outputs": [
    {
     "data": {
      "text/html": [
       "<div>\n",
       "<style scoped>\n",
       "    .dataframe tbody tr th:only-of-type {\n",
       "        vertical-align: middle;\n",
       "    }\n",
       "\n",
       "    .dataframe tbody tr th {\n",
       "        vertical-align: top;\n",
       "    }\n",
       "\n",
       "    .dataframe thead th {\n",
       "        text-align: right;\n",
       "    }\n",
       "</style>\n",
       "<table border=\"1\" class=\"dataframe\">\n",
       "  <thead>\n",
       "    <tr style=\"text-align: right;\">\n",
       "      <th></th>\n",
       "      <th>make</th>\n",
       "      <th>model</th>\n",
       "      <th>year</th>\n",
       "      <th>engine_fuel_type</th>\n",
       "      <th>engine_hp</th>\n",
       "      <th>engine_cylinders</th>\n",
       "      <th>transmission_type</th>\n",
       "      <th>driven_wheels</th>\n",
       "      <th>number_of_doors</th>\n",
       "      <th>market_category</th>\n",
       "      <th>vehicle_size</th>\n",
       "      <th>vehicle_style</th>\n",
       "      <th>highway_mpg</th>\n",
       "      <th>city_mpg</th>\n",
       "      <th>popularity</th>\n",
       "    </tr>\n",
       "  </thead>\n",
       "  <tbody>\n",
       "    <tr>\n",
       "      <th>0</th>\n",
       "      <td>chevrolet</td>\n",
       "      <td>cobalt</td>\n",
       "      <td>2008</td>\n",
       "      <td>regular_unleaded</td>\n",
       "      <td>148.0</td>\n",
       "      <td>4.0</td>\n",
       "      <td>manual</td>\n",
       "      <td>front_wheel_drive</td>\n",
       "      <td>2.0</td>\n",
       "      <td>NaN</td>\n",
       "      <td>compact</td>\n",
       "      <td>coupe</td>\n",
       "      <td>33</td>\n",
       "      <td>24</td>\n",
       "      <td>1385</td>\n",
       "    </tr>\n",
       "    <tr>\n",
       "      <th>1</th>\n",
       "      <td>toyota</td>\n",
       "      <td>matrix</td>\n",
       "      <td>2012</td>\n",
       "      <td>regular_unleaded</td>\n",
       "      <td>132.0</td>\n",
       "      <td>4.0</td>\n",
       "      <td>automatic</td>\n",
       "      <td>front_wheel_drive</td>\n",
       "      <td>4.0</td>\n",
       "      <td>hatchback</td>\n",
       "      <td>compact</td>\n",
       "      <td>4dr_hatchback</td>\n",
       "      <td>32</td>\n",
       "      <td>25</td>\n",
       "      <td>2031</td>\n",
       "    </tr>\n",
       "    <tr>\n",
       "      <th>2</th>\n",
       "      <td>subaru</td>\n",
       "      <td>impreza</td>\n",
       "      <td>2016</td>\n",
       "      <td>regular_unleaded</td>\n",
       "      <td>148.0</td>\n",
       "      <td>4.0</td>\n",
       "      <td>automatic</td>\n",
       "      <td>all_wheel_drive</td>\n",
       "      <td>4.0</td>\n",
       "      <td>hatchback</td>\n",
       "      <td>compact</td>\n",
       "      <td>4dr_hatchback</td>\n",
       "      <td>37</td>\n",
       "      <td>28</td>\n",
       "      <td>640</td>\n",
       "    </tr>\n",
       "    <tr>\n",
       "      <th>3</th>\n",
       "      <td>volkswagen</td>\n",
       "      <td>vanagon</td>\n",
       "      <td>1991</td>\n",
       "      <td>regular_unleaded</td>\n",
       "      <td>90.0</td>\n",
       "      <td>4.0</td>\n",
       "      <td>manual</td>\n",
       "      <td>rear_wheel_drive</td>\n",
       "      <td>3.0</td>\n",
       "      <td>NaN</td>\n",
       "      <td>large</td>\n",
       "      <td>passenger_minivan</td>\n",
       "      <td>18</td>\n",
       "      <td>16</td>\n",
       "      <td>873</td>\n",
       "    </tr>\n",
       "    <tr>\n",
       "      <th>4</th>\n",
       "      <td>ford</td>\n",
       "      <td>f-150</td>\n",
       "      <td>2017</td>\n",
       "      <td>flex-fuel_(unleaded/e85)</td>\n",
       "      <td>385.0</td>\n",
       "      <td>8.0</td>\n",
       "      <td>automatic</td>\n",
       "      <td>four_wheel_drive</td>\n",
       "      <td>4.0</td>\n",
       "      <td>flex_fuel</td>\n",
       "      <td>large</td>\n",
       "      <td>crew_cab_pickup</td>\n",
       "      <td>21</td>\n",
       "      <td>15</td>\n",
       "      <td>5657</td>\n",
       "    </tr>\n",
       "    <tr>\n",
       "      <th>...</th>\n",
       "      <td>...</td>\n",
       "      <td>...</td>\n",
       "      <td>...</td>\n",
       "      <td>...</td>\n",
       "      <td>...</td>\n",
       "      <td>...</td>\n",
       "      <td>...</td>\n",
       "      <td>...</td>\n",
       "      <td>...</td>\n",
       "      <td>...</td>\n",
       "      <td>...</td>\n",
       "      <td>...</td>\n",
       "      <td>...</td>\n",
       "      <td>...</td>\n",
       "      <td>...</td>\n",
       "    </tr>\n",
       "    <tr>\n",
       "      <th>9527</th>\n",
       "      <td>volvo</td>\n",
       "      <td>v60</td>\n",
       "      <td>2015</td>\n",
       "      <td>regular_unleaded</td>\n",
       "      <td>240.0</td>\n",
       "      <td>4.0</td>\n",
       "      <td>automatic</td>\n",
       "      <td>front_wheel_drive</td>\n",
       "      <td>4.0</td>\n",
       "      <td>luxury</td>\n",
       "      <td>midsize</td>\n",
       "      <td>wagon</td>\n",
       "      <td>37</td>\n",
       "      <td>25</td>\n",
       "      <td>870</td>\n",
       "    </tr>\n",
       "    <tr>\n",
       "      <th>9528</th>\n",
       "      <td>maserati</td>\n",
       "      <td>granturismo_convertible</td>\n",
       "      <td>2015</td>\n",
       "      <td>premium_unleaded_(required)</td>\n",
       "      <td>444.0</td>\n",
       "      <td>8.0</td>\n",
       "      <td>automatic</td>\n",
       "      <td>rear_wheel_drive</td>\n",
       "      <td>2.0</td>\n",
       "      <td>exotic,luxury,high-performance</td>\n",
       "      <td>midsize</td>\n",
       "      <td>convertible</td>\n",
       "      <td>20</td>\n",
       "      <td>13</td>\n",
       "      <td>238</td>\n",
       "    </tr>\n",
       "    <tr>\n",
       "      <th>9529</th>\n",
       "      <td>cadillac</td>\n",
       "      <td>escalade_hybrid</td>\n",
       "      <td>2013</td>\n",
       "      <td>regular_unleaded</td>\n",
       "      <td>332.0</td>\n",
       "      <td>8.0</td>\n",
       "      <td>automatic</td>\n",
       "      <td>rear_wheel_drive</td>\n",
       "      <td>4.0</td>\n",
       "      <td>luxury,hybrid</td>\n",
       "      <td>large</td>\n",
       "      <td>4dr_suv</td>\n",
       "      <td>23</td>\n",
       "      <td>20</td>\n",
       "      <td>1624</td>\n",
       "    </tr>\n",
       "    <tr>\n",
       "      <th>9530</th>\n",
       "      <td>mitsubishi</td>\n",
       "      <td>lancer</td>\n",
       "      <td>2016</td>\n",
       "      <td>regular_unleaded</td>\n",
       "      <td>148.0</td>\n",
       "      <td>4.0</td>\n",
       "      <td>manual</td>\n",
       "      <td>front_wheel_drive</td>\n",
       "      <td>4.0</td>\n",
       "      <td>NaN</td>\n",
       "      <td>compact</td>\n",
       "      <td>sedan</td>\n",
       "      <td>34</td>\n",
       "      <td>24</td>\n",
       "      <td>436</td>\n",
       "    </tr>\n",
       "    <tr>\n",
       "      <th>9531</th>\n",
       "      <td>kia</td>\n",
       "      <td>sorento</td>\n",
       "      <td>2015</td>\n",
       "      <td>regular_unleaded</td>\n",
       "      <td>290.0</td>\n",
       "      <td>6.0</td>\n",
       "      <td>automatic</td>\n",
       "      <td>front_wheel_drive</td>\n",
       "      <td>4.0</td>\n",
       "      <td>crossover</td>\n",
       "      <td>midsize</td>\n",
       "      <td>4dr_suv</td>\n",
       "      <td>25</td>\n",
       "      <td>18</td>\n",
       "      <td>1720</td>\n",
       "    </tr>\n",
       "  </tbody>\n",
       "</table>\n",
       "<p>9532 rows × 15 columns</p>\n",
       "</div>"
      ],
      "text/plain": [
       "            make                    model  year             engine_fuel_type  \\\n",
       "0      chevrolet                   cobalt  2008             regular_unleaded   \n",
       "1         toyota                   matrix  2012             regular_unleaded   \n",
       "2         subaru                  impreza  2016             regular_unleaded   \n",
       "3     volkswagen                  vanagon  1991             regular_unleaded   \n",
       "4           ford                    f-150  2017     flex-fuel_(unleaded/e85)   \n",
       "...          ...                      ...   ...                          ...   \n",
       "9527       volvo                      v60  2015             regular_unleaded   \n",
       "9528    maserati  granturismo_convertible  2015  premium_unleaded_(required)   \n",
       "9529    cadillac          escalade_hybrid  2013             regular_unleaded   \n",
       "9530  mitsubishi                   lancer  2016             regular_unleaded   \n",
       "9531         kia                  sorento  2015             regular_unleaded   \n",
       "\n",
       "      engine_hp  engine_cylinders transmission_type      driven_wheels  \\\n",
       "0         148.0               4.0            manual  front_wheel_drive   \n",
       "1         132.0               4.0         automatic  front_wheel_drive   \n",
       "2         148.0               4.0         automatic    all_wheel_drive   \n",
       "3          90.0               4.0            manual   rear_wheel_drive   \n",
       "4         385.0               8.0         automatic   four_wheel_drive   \n",
       "...         ...               ...               ...                ...   \n",
       "9527      240.0               4.0         automatic  front_wheel_drive   \n",
       "9528      444.0               8.0         automatic   rear_wheel_drive   \n",
       "9529      332.0               8.0         automatic   rear_wheel_drive   \n",
       "9530      148.0               4.0            manual  front_wheel_drive   \n",
       "9531      290.0               6.0         automatic  front_wheel_drive   \n",
       "\n",
       "      number_of_doors                 market_category vehicle_size  \\\n",
       "0                 2.0                             NaN      compact   \n",
       "1                 4.0                       hatchback      compact   \n",
       "2                 4.0                       hatchback      compact   \n",
       "3                 3.0                             NaN        large   \n",
       "4                 4.0                       flex_fuel        large   \n",
       "...               ...                             ...          ...   \n",
       "9527              4.0                          luxury      midsize   \n",
       "9528              2.0  exotic,luxury,high-performance      midsize   \n",
       "9529              4.0                   luxury,hybrid        large   \n",
       "9530              4.0                             NaN      compact   \n",
       "9531              4.0                       crossover      midsize   \n",
       "\n",
       "          vehicle_style  highway_mpg  city_mpg  popularity  \n",
       "0                 coupe           33        24        1385  \n",
       "1         4dr_hatchback           32        25        2031  \n",
       "2         4dr_hatchback           37        28         640  \n",
       "3     passenger_minivan           18        16         873  \n",
       "4       crew_cab_pickup           21        15        5657  \n",
       "...                 ...          ...       ...         ...  \n",
       "9527              wagon           37        25         870  \n",
       "9528        convertible           20        13         238  \n",
       "9529            4dr_suv           23        20        1624  \n",
       "9530              sedan           34        24         436  \n",
       "9531            4dr_suv           25        18        1720  \n",
       "\n",
       "[9532 rows x 15 columns]"
      ]
     },
     "execution_count": 96,
     "metadata": {},
     "output_type": "execute_result"
    }
   ],
   "source": [
    "df_full_train = pd.concat([df_train, df_val])\n",
    "df_full_train.reset_index(drop=True)"
   ]
  },
  {
   "cell_type": "code",
   "execution_count": 98,
   "id": "d26a6ef5",
   "metadata": {},
   "outputs": [
    {
     "data": {
      "text/plain": [
       "array([[148.,   4.,  33., ...,   1.,   0.,   0.],\n",
       "       [132.,   4.,  32., ...,   0.,   0.,   1.],\n",
       "       [148.,   4.,  37., ...,   0.,   0.,   1.],\n",
       "       ...,\n",
       "       [332.,   8.,  23., ...,   0.,   0.,   0.],\n",
       "       [148.,   4.,  34., ...,   0.,   0.,   0.],\n",
       "       [290.,   6.,  25., ...,   0.,   0.,   0.]])"
      ]
     },
     "execution_count": 98,
     "metadata": {},
     "output_type": "execute_result"
    }
   ],
   "source": [
    "X_full_train = prepare_X(df_full_train)\n",
    "X_full_train"
   ]
  },
  {
   "cell_type": "code",
   "execution_count": 101,
   "id": "e76469fd",
   "metadata": {},
   "outputs": [],
   "source": [
    "y_full_train = np.concatenate([y_train, y_val])"
   ]
  },
  {
   "cell_type": "code",
   "execution_count": 102,
   "id": "17c2c6a1",
   "metadata": {},
   "outputs": [
    {
     "data": {
      "text/plain": [
       "np.float64(0.4536353129822012)"
      ]
     },
     "execution_count": 102,
     "metadata": {},
     "output_type": "execute_result"
    }
   ],
   "source": [
    "w_0, w = train_linear_regression_reg(X_full_train, y_full_train)\n",
    "y_full_pred = w_0 + X_full_train.dot(w)\n",
    "\n",
    "res = rmse(y_full_train, y_full_pred)\n",
    "res"
   ]
  },
  {
   "cell_type": "code",
   "execution_count": 112,
   "id": "92fda32d",
   "metadata": {},
   "outputs": [
    {
     "name": "stdout",
     "output_type": "stream",
     "text": [
      "[ 3.87296543e-03  7.24889532e-02 -2.59712372e-03  1.10445120e-02\n",
      " -4.77015685e-05 -9.31651725e-02]\n"
     ]
    }
   ],
   "source": [
    "print(w)"
   ]
  },
  {
   "cell_type": "markdown",
   "id": "107fe023",
   "metadata": {},
   "source": [
    "USING MODEL"
   ]
  },
  {
   "cell_type": "code",
   "execution_count": 113,
   "id": "e3f31588",
   "metadata": {},
   "outputs": [
    {
     "data": {
      "text/plain": [
       "{'make': 'toyota',\n",
       " 'model': 'venza',\n",
       " 'year': 2013,\n",
       " 'engine_fuel_type': 'regular_unleaded',\n",
       " 'engine_hp': 268.0,\n",
       " 'engine_cylinders': 6.0,\n",
       " 'transmission_type': 'automatic',\n",
       " 'driven_wheels': 'all_wheel_drive',\n",
       " 'number_of_doors': 4.0,\n",
       " 'market_category': 'crossover,performance',\n",
       " 'vehicle_size': 'midsize',\n",
       " 'vehicle_style': 'wagon',\n",
       " 'highway_mpg': 25,\n",
       " 'city_mpg': 18,\n",
       " 'popularity': 2031}"
      ]
     },
     "execution_count": 113,
     "metadata": {},
     "output_type": "execute_result"
    }
   ],
   "source": [
    "i = 2\n",
    "ad = df_test.iloc[i].to_dict()\n",
    "ad"
   ]
  },
  {
   "cell_type": "code",
   "execution_count": 114,
   "id": "ae6d7971",
   "metadata": {},
   "outputs": [
    {
     "data": {
      "text/plain": [
       "np.float64(33659.13931429919)"
      ]
     },
     "execution_count": 114,
     "metadata": {},
     "output_type": "execute_result"
    }
   ],
   "source": [
    "X_test = prepare_X(pd.DataFrame([ad]))[0]\n",
    "y_pred = w_0 + X_test.dot(w)\n",
    "suggestion = np.expm1(y_pred)\n",
    "suggestion"
   ]
  },
  {
   "cell_type": "code",
   "execution_count": 117,
   "id": "e36060a9",
   "metadata": {},
   "outputs": [
    {
     "data": {
      "text/plain": [
       "np.float64(31119.999999999985)"
      ]
     },
     "execution_count": 117,
     "metadata": {},
     "output_type": "execute_result"
    }
   ],
   "source": [
    "np.expm1(y_test[2])"
   ]
  }
 ],
 "metadata": {
  "kernelspec": {
   "display_name": "Python 3 (ipykernel)",
   "language": "python",
   "name": "python3"
  },
  "language_info": {
   "codemirror_mode": {
    "name": "ipython",
    "version": 3
   },
   "file_extension": ".py",
   "mimetype": "text/x-python",
   "name": "python",
   "nbconvert_exporter": "python",
   "pygments_lexer": "ipython3",
   "version": "3.9.6"
  }
 },
 "nbformat": 4,
 "nbformat_minor": 5
}
